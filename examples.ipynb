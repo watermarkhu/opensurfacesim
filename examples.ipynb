{
 "cells": [
  {
   "source": [
    "# opensurfacesim\n",
    "\n",
    "Opensurfacesim is a simulation package for the surface code, and is designed to modularize 3 aspects of a surface code simulation.\n",
    "\n",
    "1. The surface code\n",
    "2. The error model\n",
    "3. The used decoder\n",
    "\n",
    "## Examples from the readme.\n",
    "\n",
    "The included examples in this section uses `opensurfacesim.main.initialize` to setup the surface code and decoder, and `opensurfacesim.main.run` to perform simulations. We'll expand these examples with more in-depth descriptions and  how to perform a threshold simulation with `opensurfacesim.main.threshold`. \n",
    "\n",
    "To simulate the toric code and simulate with bit-flip error for 10 iterations and decode with the MWPM decoder:"
   ],
   "cell_type": "markdown",
   "metadata": {}
  },
  {
   "cell_type": "code",
   "execution_count": null,
   "metadata": {
    "tags": []
   },
   "outputs": [],
   "source": [
    "from opensurfacesim.main import initialize, run, BenchmarkDecoder\n",
    "code, decoder = initialize((6,6), \"toric\", \"mwpm\", enabled_errors=[\"pauli\"])\n",
    "run(code, decoder, iterations=10, error_rates = {\"p_bitflip\": 0.1})"
   ]
  },
  {
   "source": [
    "Benchmarking of decoders can be enabled by attaching a *benchmarker* object to the decoder. See the docs for the syntax and information to setup benchmarking."
   ],
   "cell_type": "markdown",
   "metadata": {}
  },
  {
   "cell_type": "code",
   "execution_count": null,
   "metadata": {},
   "outputs": [],
   "source": [
    "benchmarker = BenchmarkDecoder({\"decode\":\"duration\"})\n",
    "code, decoder = initialize((6,6), \"toric\", \"mwpm\", enabled_errors=[\"pauli\"])\n",
    "run(code, decoder, iterations=10, error_rates = {\"p_bitflip\": 0.1}, benchmark=benchmarker)"
   ]
  },
  {
   "source": [
    "The figures in opensurfacesim allows for step-by-step visualization of the surface code simulation (and if supported the decoding process). Each figure logs its history such that the user can move backwards in time to view past states of the surface (and decoder). Press `h` when the figure is open for more information."
   ],
   "cell_type": "markdown",
   "metadata": {}
  },
  {
   "cell_type": "code",
   "execution_count": null,
   "metadata": {},
   "outputs": [],
   "source": [
    "code, decoder = initialize((6,6), \"toric\", \"mwpm\", enabled_errors=[\"pauli\"], plotting=True, initial_states=(0,0))\n",
    "run(code, decoder, error_rates = {\"p_bitflip\": 0.1, \"p_phaseflip\": 0.1}, decode_initial=False)"
   ]
  },
  {
   "cell_type": "code",
   "execution_count": null,
   "metadata": {},
   "outputs": [],
   "source": [
    "code, decoder = initialize((3,3), \"toric\", \"mwpm\", enabled_errors=[\"pauli\"], faulty_measurements=True, plotting=True, initial_states=(0,0))\n",
    "run(code, decoder, error_rates = {\"p_bitflip\": 0.05, \"pm_bitflip\": 0.05}, decode_initial=False)"
   ]
  },
  {
   "cell_type": "code",
   "execution_count": null,
   "metadata": {},
   "outputs": [],
   "source": [
    "print(__file__)"
   ]
  },
  {
   "cell_type": "code",
   "execution_count": null,
   "metadata": {},
   "outputs": [],
   "source": []
  }
 ],
 "metadata": {
  "kernelspec": {
   "display_name": "matplotlib-3.4.0",
   "language": "python",
   "name": "matplotlib-3.4.0"
  },
  "language_info": {
   "codemirror_mode": {
    "name": "ipython",
    "version": 3
   },
   "file_extension": ".py",
   "mimetype": "text/x-python",
   "name": "python",
   "nbconvert_exporter": "python",
   "pygments_lexer": "ipython3",
   "version": "3.9.0-final"
  }
 },
 "nbformat": 4,
 "nbformat_minor": 2
}